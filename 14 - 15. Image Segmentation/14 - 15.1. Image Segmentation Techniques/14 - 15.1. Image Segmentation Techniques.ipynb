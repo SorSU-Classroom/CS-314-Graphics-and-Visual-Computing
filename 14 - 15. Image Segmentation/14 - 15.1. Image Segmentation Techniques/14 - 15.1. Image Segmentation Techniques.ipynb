{
 "cells": [
  {
   "cell_type": "markdown",
   "metadata": {},
   "source": [
    "# Introduction to Image Segmentation\n",
    "\n",
    "`Image segmentation` is the process of partitioning an image into multiple\n",
    "segments. The goal of segmentation is to simplify and/or change the \n",
    "representation of an image into something that is more meaningful and \n",
    "easier to analyze. Image segmentation is typically used to locate objects \n",
    "and boundaries (lines, curves, etc.) in images. More precisely, image \n",
    "segmentation is the process of assigning a label to every pixel in an \n",
    "image such that pixels with the same label share certain characteristics.\n",
    "\n",
    "**Image Segmentation Techniques**\n",
    "\n",
    "- `Thresholding-based Segmentation`: This is the simplest method of image\n",
    "segmentation. From the name itself, it is clear that this technique\n",
    "segments an image based on a threshold value. If the pixel value is\n",
    "greater than the threshold value, it is assigned one value (may be white),\n",
    "else it is assigned another value (may be black).\n",
    "\n",
    "- `Region-based Segmentation`: This technique groups pixels into regions\n",
    "based on a predefined criterion. The criterion can be based on intensity,\n",
    "texture, color, etc. The most common region-based segmentation technique\n",
    "is `watershed segmentation`.\n",
    "\n",
    "- `Watershed-based Segmentation`: This technique is used to segment an\n",
    "image into different regions. The regions are created based on the\n",
    "topographical surface of the image. The image is considered as a\n",
    "topographical surface where light pixels represent peaks and dark\n",
    "pixels represent valleys. The water is poured into the valleys and\n",
    "the regions are formed when the water from different valleys meet."
   ]
  },
  {
   "cell_type": "markdown",
   "metadata": {},
   "source": [
    "# References\n",
    "\n",
    "- Thomas G. (2022). Graphic Designing: A Step-by-Step Guide (Advanced). Larsen & Keller. ISBN: 978-1-64172-536-1\n",
    "- Singh M. (2022). Computer Graphics and Multimedia. Random Publications LLP. ISBN: 978-93-93884-95-4\n",
    "- Singh M. (2022). Computer Graphics Science. Random Publications LLP. ISBN: 978-93-93884-03-9\n",
    "- Singh M. (2022). Computer Graphics Software. Random Publications LLP. ISBN: 9789393884114\n",
    "- Tyagi, V. (2021). Understanding Digital Image Processing. CRC Press.\n",
    "- Ikeuchi, K. (Ed.). (2021). Computer Vision: A Reference Guide (2nd ed.). Springer.\n",
    "- Bhuyan, M. K. (2020). Computer Vision and Image Processing. CRC Press.\n",
    "- Howse, J., & Minichino, J. (2020). Learning OpenCV 4 Computer Vision with Python 3: Get to grips with tools, techniques, and algorithms for computer vision and machine learning. Packt Publishing Ltd.\n",
    "- Kinser, J. M. (2019). Image Operators: Image Processing in Python. CRC Press.\n"
   ]
  }
 ],
 "metadata": {
  "kernelspec": {
   "display_name": "Python 3",
   "language": "python",
   "name": "python3"
  },
  "language_info": {
   "name": "python",
   "version": "3.11.5"
  }
 },
 "nbformat": 4,
 "nbformat_minor": 2
}
