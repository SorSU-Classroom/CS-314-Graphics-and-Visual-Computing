{
 "cells": [
  {
   "cell_type": "code",
   "execution_count": null,
   "metadata": {},
   "outputs": [],
   "source": [
    "'''\n",
    "style: Markdown\n",
    "\n",
    "# Introduction to Morphological Processing\n",
    "\n",
    "``Morphology`` comes from the Greek word ``morphē``, which means form or shape and ``logos``, which means study.\n",
    "The term ``Morphology`` has been used in biology that deals with the study of the form and structure of organisms\n",
    "since the 17th century. The concept of Mathematical Morphology was given in the mid-sixties by Georges Matheron\n",
    "and Jean Serra of the Paris School of Mines in Fontainebleau, France. Then, in the 70s, it was used for image\n",
    "analysis research in the area of microscopic imaging in Europe.\n",
    "\n",
    "In the field of image processing, morphological processing is a technique that deals with the shape and structure\n",
    "of an object. It is a non-linear operation that transforms an image using a structuring element. The structuring\n",
    "element is a small binary image that is used to scan the input image. The structuring element is placed at all\n",
    "possible locations in the input image and the output image is obtained by comparing the input image with the\n",
    "structuring element.\n",
    "\n",
    "Morphological processing is used for various image processing tasks such as noise removal, image enhancement,\n",
    "edge detection, image segmentation, and image analysis. It is widely used in the field of computer vision and\n",
    "machine learning.\n",
    "\n",
    "'''"
   ]
  }
 ],
 "metadata": {
  "language_info": {
   "name": "python"
  }
 },
 "nbformat": 4,
 "nbformat_minor": 2
}
